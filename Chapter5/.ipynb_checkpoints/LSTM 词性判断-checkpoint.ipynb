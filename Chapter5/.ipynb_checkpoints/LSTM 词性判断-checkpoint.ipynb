{
 "cells": [
  {
   "cell_type": "code",
   "execution_count": 1,
   "metadata": {},
   "outputs": [],
   "source": [
    "import torch\n",
    "from torch import nn,optim\n",
    "from torch.autograd import Variable\n",
    "from torch.utils.data import DataLoader\n",
    "import torchvision\n",
    "import matplotlib.pyplot as plt\n",
    "import torch.functional as F\n",
    "%matplotlib inline"
   ]
  },
  {
   "cell_type": "code",
   "execution_count": 2,
   "metadata": {},
   "outputs": [],
   "source": [
    "training_data = [\n",
    "    (\"The dog ate the apple\".split(),[\"DET\",\"NN\",\"V\",\"DET\",\"NN\"]),\n",
    "    (\"Everybody read that book\".split(),[\"NN\",\"V\",\"DET\",\"NN\"])\n",
    "]\n",
    "\n"
   ]
  },
  {
   "cell_type": "code",
   "execution_count": 3,
   "metadata": {},
   "outputs": [],
   "source": [
    "word_to_idx = {}\n",
    "tag_to_idx = {}\n",
    "idx_to_tag = {}\n",
    "for context,tag in training_data:\n",
    "    for word in context:\n",
    "        if word.lower() not in word_to_idx:\n",
    "            word_to_idx[word.lower()] = len(word_to_idx)\n",
    "    for label in tag:\n",
    "        if label not in tag_to_idx:\n",
    "            tag_to_idx[label] = len(tag_to_idx)\n",
    "            idx_to_tag[len(tag_to_idx)-1] = label\n",
    "            \n",
    "alphabet = 'abcdefghijklmnopqrstuvwxyz'\n",
    "char_to_idx = {}\n",
    "for i in range(len(alphabet)):\n",
    "    char_to_idx[alphabet[i]] = i"
   ]
  },
  {
   "cell_type": "code",
   "execution_count": 4,
   "metadata": {},
   "outputs": [],
   "source": [
    "class CharLSTM(nn.Module):\n",
    "    '''\n",
    "    构建单个字符分类器，对单词的字符判断词性，比如ly为副词\n",
    "    将隐含状态的最后一个输出\n",
    "    对于每个单词，都可以通过CharLSTM用相应的字符表示\n",
    "    '''\n",
    "    def __init__(self,n_char,char_dim,char_hidden):\n",
    "        super(CharLSTM,self).__init__()\n",
    "        self.char_embedding = nn.Embedding(n_char,char_dim)\n",
    "        self.char_lstm = nn.LSTM(char_dim,char_hidden,batch_first=True)\n",
    "    def forward(self,x):\n",
    "        x = self.char_embedding(x)\n",
    "        _,h = self.char_lstm(x)\n",
    "        return h[0]\n",
    "    "
   ]
  },
  {
   "cell_type": "code",
   "execution_count": 5,
   "metadata": {},
   "outputs": [],
   "source": [
    "class LSTMTagger(nn.Module):\n",
    "    def __init__(self,n_word,n_char,char_dim,word_dim,char_hidden,word_hidden,n_tag):\n",
    "        super(LSTMTagger,self).__init__()\n",
    "        self.word_embedding = nn.Embedding(n_word,word_dim)\n",
    "        self.char_lstm = CharLSTM(n_char,char_dim,char_hidden)\n",
    "        self.word_lstm = nn.LSTM(word_dim+char_hidden,word_hidden,batch_first=True)\n",
    "        self.linear1 = nn.Linear(word_hidden,n_tag)\n",
    "    def forward(self, x, word):\n",
    "        char =[]\n",
    "        for w in word:\n",
    "            char_list = [char_to_idx[i.lower()] for i in w]\n",
    "            char_list = torch.LongTensor(char_list)\n",
    "            char_list = char_list.unsqueeze(0)\n",
    "            tempchar = self.char_lstm(Variable(char_list))\n",
    "            tempchar = tempchar.squeeze(0)\n",
    "            char.append(tempchar)\n",
    " \n",
    "        char = torch.stack(char,dim=0)\n",
    "        x = self.word_embedding(x) # batch,seq,word_dim\n",
    "#         print(x.size(),char.size())\n",
    "        x = x.permute(1,0,2)\n",
    "        x = torch.cat((x,char),dim=2)\n",
    "        x,_ = self.word_lstm(x)#seq,batch,word_hidden\n",
    "        \n",
    "        s,b,h = x.shape\n",
    "        x = x.view(-1,h)\n",
    "        out = self.linear1(x)\n",
    "#         out = F.log_softmax(out)\n",
    "        return out         \n",
    "        "
   ]
  },
  {
   "cell_type": "code",
   "execution_count": 6,
   "metadata": {},
   "outputs": [],
   "source": [
    "lstm = LSTMTagger(len(word_to_idx),len(char_to_idx),10,100,50,128,len(tag_to_idx))\n",
    "optimizer = optim.Adam(lstm.parameters(),lr=0.02)\n",
    "loss_func = nn.CrossEntropyLoss()"
   ]
  },
  {
   "cell_type": "code",
   "execution_count": 9,
   "metadata": {},
   "outputs": [
    {
     "name": "stdout",
     "output_type": "stream",
     "text": [
      "Epoch:50,Loss:0.00000\n",
      "Epoch:50,Loss:0.00000\n",
      "Epoch:100,Loss:0.00000\n",
      "Epoch:100,Loss:0.00000\n",
      "Epoch:150,Loss:0.00000\n",
      "Epoch:150,Loss:0.00000\n",
      "Epoch:200,Loss:0.00000\n",
      "Epoch:200,Loss:0.00000\n",
      "Epoch:250,Loss:0.00000\n",
      "Epoch:250,Loss:0.00000\n",
      "Epoch:300,Loss:0.00000\n",
      "Epoch:300,Loss:0.00000\n",
      "['NN', 'V', 'DET', 'NN']\n"
     ]
    }
   ],
   "source": [
    "for epoch in range(300):\n",
    "    train_loss = 0\n",
    "    for word,tag in training_data:\n",
    "        word_list = [word_to_idx[w.lower()] for w in word]\n",
    "        word_list = torch.LongTensor(word_list).unsqueeze(0)\n",
    "        tag = [tag_to_idx[t] for t in tag]\n",
    "        tag = torch.LongTensor(tag)\n",
    "        word_list = Variable(word_list)\n",
    "        tag = Variable(tag)\n",
    "        \n",
    "        # forward\n",
    "        pred_tag = lstm(word_list,word)\n",
    "        loss = loss_func(pred_tag,tag)\n",
    "        train_loss += loss.item()\n",
    "        \n",
    "        #backward\n",
    "        optimizer.zero_grad()\n",
    "        loss.backward()\n",
    "        optimizer.step()\n",
    "        \n",
    "        if (epoch+1)%50 == 0:\n",
    "            print('Epoch:{},Loss:{:.5f}'.format(epoch+1,train_loss/len(training_data)))\n",
    "lstm.eval()\n",
    "test_sent = 'dog read the book'\n",
    "test_list = [word_to_idx[w.lower()] for w in test_sent.split()]\n",
    "test_list = torch.LongTensor(test_list).unsqueeze(0)\n",
    "out = lstm(Variable(test_list),test_sent.split())\n",
    "_,pred = torch.max(out,1)\n",
    "print([idx_to_tag[int(i)] for i in pred])"
   ]
  },
  {
   "cell_type": "code",
   "execution_count": null,
   "metadata": {},
   "outputs": [],
   "source": []
  }
 ],
 "metadata": {
  "kernelspec": {
   "display_name": "py35",
   "language": "python",
   "name": "py35"
  },
  "language_info": {
   "codemirror_mode": {
    "name": "ipython",
    "version": 3
   },
   "file_extension": ".py",
   "mimetype": "text/x-python",
   "name": "python",
   "nbconvert_exporter": "python",
   "pygments_lexer": "ipython3",
   "version": "3.5.6"
  }
 },
 "nbformat": 4,
 "nbformat_minor": 2
}
