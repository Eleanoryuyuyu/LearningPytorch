{
 "cells": [
  {
   "cell_type": "code",
   "execution_count": 1,
   "metadata": {},
   "outputs": [],
   "source": [
    "import torch\n",
    "from torch import nn,optim\n",
    "from torch.autograd import Variable\n",
    "from torch.utils.data import DataLoader\n",
    "from torchvision import datasets,transforms\n",
    "import matplotlib.pyplot as plt\n",
    "%matplotlib inline"
   ]
  },
  {
   "cell_type": "code",
   "execution_count": 2,
   "metadata": {},
   "outputs": [],
   "source": [
    "BATCH_SIZE = 64\n",
    "LR = 0.01\n",
    "EPOCH_NUM = 10"
   ]
  },
  {
   "cell_type": "code",
   "execution_count": 3,
   "metadata": {},
   "outputs": [
    {
     "name": "stderr",
     "output_type": "stream",
     "text": [
      "C:\\Users\\Eleanor\\Anaconda3\\envs\\py35\\lib\\site-packages\\torchvision\\datasets\\mnist.py:58: UserWarning: test_data has been renamed data\n",
      "  warnings.warn(\"test_data has been renamed data\")\n",
      "C:\\Users\\Eleanor\\Anaconda3\\envs\\py35\\lib\\site-packages\\ipykernel_launcher.py:4: UserWarning: volatile was removed and now has no effect. Use `with torch.no_grad():` instead.\n",
      "  after removing the cwd from sys.path.\n",
      "C:\\Users\\Eleanor\\Anaconda3\\envs\\py35\\lib\\site-packages\\torchvision\\datasets\\mnist.py:48: UserWarning: test_labels has been renamed targets\n",
      "  warnings.warn(\"test_labels has been renamed targets\")\n"
     ]
    }
   ],
   "source": [
    "train_data = datasets.MNIST(root='./mnist/',train=True,transform=transforms.ToTensor())\n",
    "test_data = datasets.MNIST(root='./mnist/',train=False,transform=transforms.ToTensor())\n",
    "train_loader = DataLoader(train_data,batch_size=BATCH_SIZE,shuffle=True)\n",
    "test_x = Variable(test_data.test_data,volatile=True).type(torch.FloatTensor)[:2000]/255\n",
    "test_y = test_data.test_labels.numpy().squeeze()[:2000]"
   ]
  },
  {
   "cell_type": "code",
   "execution_count": 4,
   "metadata": {},
   "outputs": [
    {
     "name": "stderr",
     "output_type": "stream",
     "text": [
      "C:\\Users\\Eleanor\\Anaconda3\\envs\\py35\\lib\\site-packages\\torchvision\\datasets\\mnist.py:53: UserWarning: train_data has been renamed data\n",
      "  warnings.warn(\"train_data has been renamed data\")\n",
      "C:\\Users\\Eleanor\\Anaconda3\\envs\\py35\\lib\\site-packages\\torchvision\\datasets\\mnist.py:43: UserWarning: train_labels has been renamed targets\n",
      "  warnings.warn(\"train_labels has been renamed targets\")\n"
     ]
    },
    {
     "name": "stdout",
     "output_type": "stream",
     "text": [
      "torch.Size([60000, 28, 28])\n",
      "torch.Size([60000])\n"
     ]
    },
    {
     "data": {
      "image/png": "[encoded data removed]",
      "text/plain": [
       "<Figure size 432x288 with 1 Axes>"
      ]
     },
     "metadata": {
      "needs_background": "light"
     },
     "output_type": "display_data"
    }
   ],
   "source": [
    "print(train_data.train_data.size())\n",
    "print(train_data.train_labels.size())\n",
    "plt.imshow(train_data.train_data[0].numpy(),cmap='gray')\n",
    "plt.title('%i'%train_data.train_labels[0])\n",
    "plt.show()"
   ]
  },
  {
   "cell_type": "code",
   "execution_count": 5,
   "metadata": {},
   "outputs": [],
   "source": [
    "class RNN(nn.Module):\n",
    "    def __init__(self,in_dim,hidden_dim,n_layer,n_class):\n",
    "        super(RNN,self).__init__()\n",
    "        self.n_layer = n_layer\n",
    "        self.hidden_dim = hidden_dim\n",
    "        self.lstm = nn.LSTM(in_dim,hidden_dim,n_layer,batch_first=True)\n",
    "        self.out = nn.Linear(hidden_dim,n_class)\n",
    "    def forward(self,x):\n",
    "        out,_ = self.lstm(x)\n",
    "        out = out[:,-1,:]\n",
    "        out = self.out(out)\n",
    "        return out"
   ]
  },
  {
   "cell_type": "code",
   "execution_count": 6,
   "metadata": {},
   "outputs": [],
   "source": [
    "model = RNN(28,64,1,10)\n",
    "loss_func = nn.CrossEntropyLoss()\n",
    "optimizer = optim.Adam(model.parameters(), lr=LR)  "
   ]
  },
  {
   "cell_type": "code",
   "execution_count": 8,
   "metadata": {},
   "outputs": [
    {
     "name": "stdout",
     "output_type": "stream",
     "text": [
      "Epoch 0 |train loss:0.0238 |test acc:0.97\n",
      "Epoch 1 |train loss:0.0451 |test acc:0.97\n",
      "Epoch 2 |train loss:0.1290 |test acc:0.98\n",
      "Epoch 3 |train loss:0.0357 |test acc:0.97\n",
      "Epoch 4 |train loss:0.0560 |test acc:0.97\n",
      "Epoch 5 |train loss:0.0398 |test acc:0.97\n",
      "Epoch 6 |train loss:0.1980 |test acc:0.97\n",
      "Epoch 7 |train loss:0.0276 |test acc:0.97\n",
      "Epoch 8 |train loss:0.0332 |test acc:0.98\n",
      "Epoch 9 |train loss:0.2025 |test acc:0.98\n"
     ]
    }
   ],
   "source": [
    "for epoch in range(EPOCH_NUM):\n",
    "    for step,(x,y) in enumerate(train_loader):\n",
    "        b_x = Variable(x.view(-1,28,28))\n",
    "        b_y = Variable(y)\n",
    "        \n",
    "        output = model(b_x)\n",
    "        loss = loss_func(output,b_y)\n",
    "        optimizer.zero_grad()\n",
    "        loss.backward()\n",
    "        optimizer.step()\n",
    "        if step % 1000 == 0:   \n",
    "            test_output = model(test_x)\n",
    "            pred_y = torch.max(test_output,1)[1].data.numpy().squeeze()\n",
    "            acc = sum(pred_y==test_y)/float(test_y.size)\n",
    "            print('Epoch',epoch,'|train loss:%.4f'%loss.item(),'|test acc:%.2f'%acc)"
   ]
  },
  {
   "cell_type": "code",
   "execution_count": null,
   "metadata": {},
   "outputs": [],
   "source": []
  }
 ],
 "metadata": {
  "kernelspec": {
   "display_name": "Python py35",
   "language": "python",
   "name": "py35"
  },
  "language_info": {
   "codemirror_mode": {
    "name": "ipython",
    "version": 3
   },
   "file_extension": ".py",
   "mimetype": "text/x-python",
   "name": "python",
   "nbconvert_exporter": "python",
   "pygments_lexer": "ipython3",
   "version": "3.5.6"
  }
 },
 "nbformat": 4,
 "nbformat_minor": 2
}
